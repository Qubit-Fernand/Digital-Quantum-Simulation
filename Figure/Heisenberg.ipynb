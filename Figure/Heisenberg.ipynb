{
 "cells": [
  {
   "cell_type": "code",
   "execution_count": 8,
   "metadata": {},
   "outputs": [
    {
     "name": "stderr",
     "output_type": "stream",
     "text": [
      "/opt/anaconda3/envs/AntiEntropy/lib/python3.11/site-packages/scipy/sparse/linalg/_eigen/arpack/arpack.py:1272: RuntimeWarning: k >= N - 1 for N * N square matrix. Attempting to use scipy.linalg.eig instead.\n",
      "  warnings.warn(\"k >= N - 1 for N * N square matrix. \"\n"
     ]
    }
   ],
   "source": [
    "import numpy as np\n",
    "from scipy.sparse import kron, eye\n",
    "from scipy.sparse.linalg import eigs\n",
    "\n",
    "# Define the parameters of the Heisenberg model\n",
    "# Here we suppose the external magnetic field is zero\n",
    "J = 1  # Exchange interaction energy\n",
    "\n",
    "# Define the size of the system (a 2 × L lattice with two L-length chains)\n",
    "L = 6\n",
    "\n",
    "# Construct the Hamiltonian matrix, H1: intra-chain interaction & H2: inter-chain interaction\n",
    "H1 = np.zeros((2**(2*L), 2**(2*L)), dtype=np.complex128)\n",
    "H2 = np.zeros((2**(2*L), 2**(2*L)), dtype=np.complex128)\n",
    "H3 = np.zeros((2**(2*L), 2**(2*L)), dtype=np.complex128)\n",
    "\n",
    "for i in range(1, L, 2):\n",
    "    # Define the exchange interaction term between adjacent spins (1D chain)\n",
    "    SxSx1 = kron(kron(kron(eye(2**(i-1)), kron([[0, 1], [1, 0]], [[0, 1], [1, 0]])), eye(2**(L-i-1))), eye(2**L))\n",
    "    SySy1 = kron(kron(kron(eye(2**(i-1)), kron([[0, -1j], [1j, 0]], [[0, -1j], [1j, 0]])), eye(2**(L-i-1))), eye(2**L))\n",
    "    SzSz1 = kron(kron(kron(eye(2**(i-1)), kron([[1, 0], [0, -1]], [[1, 0], [0, -1]])), eye(2**(L-i-1))), eye(2**L))\n",
    "    # Add the exchange interaction term to the Hamiltonian matrix\n",
    "    H1 -= J * (SxSx1 + SySy1 + SzSz1)\n",
    "    # Define the exchange interaction term between adjacent spins (1D chain)\n",
    "    SxSx2 = kron(eye(2**L), kron(kron(eye(2**(i-1)), kron([[0, 1], [1, 0]], [[0, 1], [1, 0]])), eye(2**(L-i-1))))\n",
    "    SySy2 = kron(eye(2**L), kron(kron(eye(2**(i-1)), kron([[0, -1j], [1j, 0]], [[0, -1j], [1j, 0]])), eye(2**(L-i-1))))\n",
    "    SzSz2 = kron(eye(2**L), kron(kron(eye(2**(i-1)), kron([[1, 0], [0, -1]], [[1, 0], [0, -1]])), eye(2**(L-i-1))))\n",
    "    # Add the exchange interaction term to the Hamiltonian matrix\n",
    "    H1 -= J * (SxSx2 + SySy2 + SzSz2)\n",
    "\n",
    "for i in range(2, L, 2):\n",
    "    # Define the exchange interaction term between adjacent spins (1D chain)\n",
    "    SxSx1 = kron(kron(kron(eye(2**(i-1)), kron([[0, 1], [1, 0]], [[0, 1], [1, 0]])), eye(2**(L-i-1))), eye(2**L))\n",
    "    SySy1 = kron(kron(kron(eye(2**(i-1)), kron([[0, -1j], [1j, 0]], [[0, -1j], [1j, 0]])), eye(2**(L-i-1))), eye(2**L))\n",
    "    SzSz1 = kron(kron(kron(eye(2**(i-1)), kron([[1, 0], [0, -1]], [[1, 0], [0, -1]])), eye(2**(L-i-1))), eye(2**L))\n",
    "    # Add the exchange interaction term to the Hamiltonian matrix\n",
    "    H2 -= J * (SxSx1 + SySy1 + SzSz1)\n",
    "    # Define the exchange interaction term between adjacent spins (1D chain)\n",
    "    SxSx2 = kron(eye(2**L), kron(kron(eye(2**(i-1)), kron([[0, 1], [1, 0]], [[0, 1], [1, 0]])), eye(2**(L-i-1))))\n",
    "    SySy2 = kron(eye(2**L), kron(kron(eye(2**(i-1)), kron([[0, -1j], [1j, 0]], [[0, -1j], [1j, 0]])), eye(2**(L-i-1))))\n",
    "    SzSz2 = kron(eye(2**L), kron(kron(eye(2**(i-1)), kron([[1, 0], [0, -1]], [[1, 0], [0, -1]])), eye(2**(L-i-1))))\n",
    "    # Add the exchange interaction term to the Hamiltonian matrix\n",
    "    H2 -= J * (SxSx2 + SySy2 + SzSz2)\n",
    "\n",
    "for i in range(1,L+1):\n",
    "    # Define the exchange interaction term between adjacent spins (inter-chain)\n",
    "    SxSx3 = kron(kron(kron(eye(2**(i-1)), [[0, 1], [1, 0]]), eye(2**(L-i))), kron(kron(eye(2**(i-1)), [[0, 1], [1, 0]]), eye(2**(L-i))))\n",
    "    SySy3 = kron(kron(kron(eye(2**(i-1)), [[0, -1j], [1j, 0]]), eye(2**(L-i))), kron(kron(eye(2**(i-1)), [[0, -1j], [1j, 0]]), eye(2**(L-i))))\n",
    "    SzSz3 = kron(kron(kron(eye(2**(i-1)), [[0, 1], [1, 0]]), eye(2**(L-i))), kron(kron(eye(2**(i-1)), [[0, 1], [1, 0]]), eye(2**(L-i))))\n",
    "    # Add the exchange interaction term to the Hamiltonian matrix\n",
    "    H3 -= J * (SxSx3 + SySy3 + SzSz3)\n",
    "\n",
    "# Shift the Hamiltonian by the ground state energy\n",
    "# Lanczos Method for sparse matrix. By default, the output is sorted in ascending order of absolute value\n",
    "energy1, _ = eigs(H1, k=4096, which='SR')\n",
    "energy2, _ = eigs(H2, k=4096, which='SR')\n",
    "energy3, _ = eigs(H3, k=4096, which='SR')\n",
    "ground_energy1 = np.min(energy1)\n",
    "ground_energy2 = np.min(energy2)\n",
    "ground_energy3 = np.min(energy3)\n",
    "\n",
    "# Floor function removed\n",
    "H1_shift = H1 - ground_energy1 * eye(2**(2*L))\n",
    "H2_shift = H2 - ground_energy2 * eye(2**(2*L))\n",
    "H3_shift = H3 - ground_energy3 * eye(2**(2*L))\n",
    "\n",
    "# Derive the global Hamiltonian\n",
    "H = H1 + H2 + H3\n",
    "H_shift = H1_shift + H2_shift + H3_shift\n",
    "energy, states = eigs(H_shift, k=4096)"
   ]
  },
  {
   "cell_type": "code",
   "execution_count": 37,
   "metadata": {},
   "outputs": [
    {
     "data": {
      "text/plain": [
       "(-5.999999999999999+0j)"
      ]
     },
     "execution_count": 37,
     "metadata": {},
     "output_type": "execute_result"
    }
   ],
   "source": [
    "energy1[1]"
   ]
  }
 ],
 "metadata": {
  "kernelspec": {
   "display_name": "AntiEntropy",
   "language": "python",
   "name": "python3"
  },
  "language_info": {
   "codemirror_mode": {
    "name": "ipython",
    "version": 3
   },
   "file_extension": ".py",
   "mimetype": "text/x-python",
   "name": "python",
   "nbconvert_exporter": "python",
   "pygments_lexer": "ipython3",
   "version": "3.11.0"
  },
  "orig_nbformat": 4
 },
 "nbformat": 4,
 "nbformat_minor": 2
}
